{
 "cells": [
  {
   "cell_type": "code",
   "execution_count": 2,
   "id": "713cfcda",
   "metadata": {},
   "outputs": [],
   "source": [
    "import numpy as np #Un module très utile pour faire des maths"
   ]
  },
  {
   "cell_type": "markdown",
   "id": "baede848",
   "metadata": {},
   "source": [
    "\n",
    "# Outils pour la compréhension du code qui suit. "
   ]
  },
  {
   "cell_type": "code",
   "execution_count": 11,
   "id": "16a016c1",
   "metadata": {},
   "outputs": [
    {
     "name": "stdout",
     "output_type": "stream",
     "text": [
      "0\n",
      "1\n",
      "2\n",
      "3\n",
      "\n",
      "1\n",
      "2\n",
      "3\n"
     ]
    },
    {
     "data": {
      "text/plain": [
       "'\\nListe des valeurs de la suite \\n\\n[1]\\n\\nListe des valeurs c*(n+1) \\n\\n[3, 6, 9, 12, 15, 18, 21, 24, 27, 30, 33, 36, 39, 42, 45, 48, 51, 54, 57, 60, 63, 66, 69, 72, 75, 78]\\n'"
      ]
     },
     "execution_count": 11,
     "metadata": {},
     "output_type": "execute_result"
    }
   ],
   "source": [
    "U=[] #une liste vide\n",
    "u = 1 #un élément\n",
    "np.floor(1.3) #partie entière inférieure\n",
    "int(4.3) #converti en entier\n",
    "U.append(u) #Permet d'ajouter un élément à une liste\n",
    "\n",
    "#rappel sur les boucle for et les détails de la fonction range(...)\n",
    "for i in range(4): \n",
    "    print(i)\n",
    "print() #mettre un espace    \n",
    "for i in range(1,4): \n",
    "    print(i)\n",
    "    \n",
    "#print(f'\\nListe des valeurs de la suite \\n\\n{U}\\n\\nListe des valeurs c*(n+1) \\n\\n{L}') \n",
    "\n",
    "'''\n",
    "Liste des valeurs de la suite \n",
    "\n",
    "[1]\n",
    "\n",
    "Liste des valeurs c*(n+1) \n",
    "\n",
    "[3, 6, 9, 12, 15, 18, 21, 24, 27, 30, 33, 36, 39, 42, 45, 48, 51, 54, 57, 60, 63, 66, 69, 72, 75, 78]\n",
    "'''\n",
    "\n",
    "#'\\n' Permet de sauter une ligne dans un print \n",
    "#f'texte1 U={variable} texte2' Permet de mélanger des variables et du texte"
   ]
  },
  {
   "cell_type": "markdown",
   "id": "cbcd1c4d",
   "metadata": {},
   "source": [
    "# Exercice10"
   ]
  },
  {
   "cell_type": "code",
   "execution_count": 5,
   "id": "6073a273",
   "metadata": {},
   "outputs": [
    {
     "name": "stdout",
     "output_type": "stream",
     "text": [
      "[1, 3, 5, 7, 9, 9, 15, 15, 17, 19, 19, 19, 29, 29, 29, 29, 31, 31, 41, 41, 41] \n",
      " [2, 4, 6, 8, 10, 12, 14, 16, 18, 20, 22, 24, 26, 28, 30, 32, 34, 36, 38, 40, 42]\n"
     ]
    }
   ],
   "source": [
    "U = [1]\n",
    "\n",
    "u = 1 #u0\n",
    "n= 20 #nombre de termes de la suites \n",
    "\n",
    "for i in range(1,n+1): # pour qu'il y ait n étapes\n",
    "    u = U[int(np.floor(i/2))] + U[int(np.floor(i/3))] +U[int(np.floor(i/6))] # un+1 en fonction des termes précédents\n",
    "    U.append(u) # ajouter à la liste des termes\n",
    "\n",
    "\n",
    "c=2 # une constante qui ne marche pas \n",
    "L=[]\n",
    "for i in range(n+1):\n",
    "    L.append(c*(i+1))\n",
    "\n",
    "\n",
    "print(U,'\\n',L) #On voit que pour c=2 le résultat est faux 29>26 on a u12>2*13\n"
   ]
  },
  {
   "cell_type": "code",
   "execution_count": 7,
   "id": "7396e74d",
   "metadata": {},
   "outputs": [
    {
     "name": "stdout",
     "output_type": "stream",
     "text": [
      "[1, 3, 5, 7, 9, 9, 15, 15, 17, 19, 19, 19, 29, 29, 29, 29, 31, 31, 41, 41, 41, 41, 41, 41, 55, 55] \n",
      " [3, 6, 9, 12, 15, 18, 21, 24, 27, 30, 33, 36, 39, 42, 45, 48, 51, 54, 57, 60, 63, 66, 69, 72, 75, 78]\n"
     ]
    }
   ],
   "source": [
    "U = [1]\n",
    "\n",
    "u = 1\n",
    "n= 25\n",
    "\n",
    "for i in range(1,n+1): # pour qu'il y ait n étapes\n",
    "    u = U[int(np.floor(i/2))] + U[int(np.floor(i/3))] +U[int(np.floor(i/6))]\n",
    "    U.append(u)\n",
    "\n",
    "\n",
    "c=3\n",
    "L=[]\n",
    "for i in range(n+1):\n",
    "    L.append(c*(i+1))\n",
    "\n",
    "\n",
    "print(U,'\\n',L) #On voit que pour c=3 le résultat semble fonctionner et fonctionne voir preuvre petit cahier\n"
   ]
  },
  {
   "cell_type": "code",
   "execution_count": null,
   "id": "4e14cac3",
   "metadata": {},
   "outputs": [],
   "source": []
  }
 ],
 "metadata": {
  "kernelspec": {
   "display_name": "Python 3 (ipykernel)",
   "language": "python",
   "name": "python3"
  },
  "language_info": {
   "codemirror_mode": {
    "name": "ipython",
    "version": 3
   },
   "file_extension": ".py",
   "mimetype": "text/x-python",
   "name": "python",
   "nbconvert_exporter": "python",
   "pygments_lexer": "ipython3",
   "version": "3.10.6"
  }
 },
 "nbformat": 4,
 "nbformat_minor": 5
}
