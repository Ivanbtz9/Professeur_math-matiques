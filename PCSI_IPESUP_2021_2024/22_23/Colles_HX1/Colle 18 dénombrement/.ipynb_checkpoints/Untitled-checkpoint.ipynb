{
 "cells": [
  {
   "cell_type": "code",
   "execution_count": 3,
   "id": "c5293906",
   "metadata": {},
   "outputs": [],
   "source": [
    "import numpy as np \n"
   ]
  },
  {
   "cell_type": "code",
   "execution_count": 30,
   "id": "d0416bfe",
   "metadata": {},
   "outputs": [
    {
     "data": {
      "text/plain": [
       "3"
      ]
     },
     "execution_count": 30,
     "metadata": {},
     "output_type": "execute_result"
    }
   ],
   "source": [
    "sum([1,2])"
   ]
  },
  {
   "cell_type": "code",
   "execution_count": 33,
   "id": "5077659e",
   "metadata": {},
   "outputs": [],
   "source": [
    "def bell(n):\n",
    "    liste = []\n",
    "    stock = 1\n",
    "    if n==0:\n",
    "        return stock\n",
    "    else:\n",
    "        for i in range(n):\n",
    "            liste.append(stock)\n",
    "            stock = sum(liste)\n",
    "        return stock\n",
    "    "
   ]
  },
  {
   "cell_type": "code",
   "execution_count": 40,
   "id": "33b4db39",
   "metadata": {},
   "outputs": [
    {
     "data": {
      "text/plain": [
       "[1, [1], [1, [1]]]"
      ]
     },
     "execution_count": 40,
     "metadata": {},
     "output_type": "execute_result"
    }
   ],
   "source": [
    "bell(3)"
   ]
  },
  {
   "cell_type": "code",
   "execution_count": null,
   "id": "da5fdfc7",
   "metadata": {},
   "outputs": [],
   "source": []
  }
 ],
 "metadata": {
  "kernelspec": {
   "display_name": "Python 3 (ipykernel)",
   "language": "python",
   "name": "python3"
  },
  "language_info": {
   "codemirror_mode": {
    "name": "ipython",
    "version": 3
   },
   "file_extension": ".py",
   "mimetype": "text/x-python",
   "name": "python",
   "nbconvert_exporter": "python",
   "pygments_lexer": "ipython3",
   "version": "3.9.7"
  }
 },
 "nbformat": 4,
 "nbformat_minor": 5
}
