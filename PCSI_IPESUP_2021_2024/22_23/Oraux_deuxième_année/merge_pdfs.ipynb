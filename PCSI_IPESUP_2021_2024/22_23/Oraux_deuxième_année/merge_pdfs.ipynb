{
 "cells": [
  {
   "cell_type": "code",
   "execution_count": 6,
   "id": "e10fad5d",
   "metadata": {},
   "outputs": [],
   "source": [
    "import os \n",
    "from PyPDF2 import PdfMerger"
   ]
  },
  {
   "cell_type": "code",
   "execution_count": 8,
   "id": "b9dbfb38",
   "metadata": {},
   "outputs": [],
   "source": [
    "def merge_pdfs(input_folder, output_path):\n",
    "    merger = PdfMerger()\n",
    "\n",
    "    # Parcours du dossier d'entrée\n",
    "    for filename in os.listdir(input_folder):\n",
    "        if filename.endswith('.pdf'):\n",
    "            filepath = os.path.join(input_folder, filename)\n",
    "            merger.append(filepath)\n",
    "\n",
    "    # Fusion des fichiers PDF\n",
    "    merger.write(output_path)\n",
    "    merger.close()"
   ]
  },
  {
   "cell_type": "code",
   "execution_count": 9,
   "id": "299600e6",
   "metadata": {},
   "outputs": [],
   "source": [
    "# Exemple d'utilisation\n",
    "input_folder = '/home/btzivan/Bureau/22-23_IPESUP/Oraux_deuxième_année/pdf_oraux'\n",
    "output_path = '/home/btzivan/Bureau/22-23_IPESUP/Oraux_deuxième_année/pdf_oraux/final.pdf'\n",
    "merge_pdfs(input_folder, output_path)"
   ]
  }
 ],
 "metadata": {
  "kernelspec": {
   "display_name": "Python 3 (ipykernel)",
   "language": "python",
   "name": "python3"
  },
  "language_info": {
   "codemirror_mode": {
    "name": "ipython",
    "version": 3
   },
   "file_extension": ".py",
   "mimetype": "text/x-python",
   "name": "python",
   "nbconvert_exporter": "python",
   "pygments_lexer": "ipython3",
   "version": "3.9.7"
  }
 },
 "nbformat": 4,
 "nbformat_minor": 5
}
