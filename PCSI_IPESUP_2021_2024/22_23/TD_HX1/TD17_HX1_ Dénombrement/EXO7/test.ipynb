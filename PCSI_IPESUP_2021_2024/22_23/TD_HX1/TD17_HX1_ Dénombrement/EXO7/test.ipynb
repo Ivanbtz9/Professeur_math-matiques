{
 "cells": [
  {
   "cell_type": "code",
   "execution_count": 15,
   "id": "5dc8fbad",
   "metadata": {},
   "outputs": [
    {
     "data": {
      "text/plain": [
       "True"
      ]
     },
     "execution_count": 15,
     "metadata": {},
     "output_type": "execute_result"
    }
   ],
   "source": [
    "5!=3"
   ]
  },
  {
   "cell_type": "code",
   "execution_count": 11,
   "id": "1f030821",
   "metadata": {},
   "outputs": [
    {
     "name": "stdout",
     "output_type": "stream",
     "text": [
      "50401\n"
     ]
    }
   ],
   "source": [
    "count = 0\n",
    "\n",
    "for i in range(201):\n",
    "    for j in range(501):\n",
    "        if 5*i +j*2 <=1000:\n",
    "            count+=1\n",
    "\n",
    "print(count)\n",
    "        "
   ]
  },
  {
   "cell_type": "code",
   "execution_count": 12,
   "id": "d6720de4",
   "metadata": {},
   "outputs": [
    {
     "name": "stdout",
     "output_type": "stream",
     "text": [
      "50401\n"
     ]
    }
   ],
   "source": [
    "count = 0\n",
    "\n",
    "for i in range(201):\n",
    "    for j in range(501):\n",
    "        for k in range(1001):\n",
    "            if 5*i +j*2+k ==1000:\n",
    "                count+=1\n",
    "\n",
    "print(count)\n",
    "        "
   ]
  },
  {
   "cell_type": "code",
   "execution_count": 17,
   "id": "2f7086e2",
   "metadata": {},
   "outputs": [
    {
     "name": "stdout",
     "output_type": "stream",
     "text": [
      "5333\n"
     ]
    }
   ],
   "source": [
    "c =0 \n",
    "\n",
    "for i in range(10**4):\n",
    "    if i % 3 != 0 and i % 5 != 0:\n",
    "        c +=1\n",
    "        \n",
    "print(c)\n"
   ]
  },
  {
   "cell_type": "code",
   "execution_count": 1,
   "id": "24a6361a",
   "metadata": {},
   "outputs": [
    {
     "data": {
      "text/plain": [
       "22.99994315123396"
      ]
     },
     "execution_count": 1,
     "metadata": {},
     "output_type": "execute_result"
    }
   ],
   "source": [
    "import math as ma\n",
    "\n",
    "(1+ma.sqrt(1+4*ma.log(2)*730))/2\n"
   ]
  },
  {
   "cell_type": "code",
   "execution_count": 2,
   "id": "9dcafcf5",
   "metadata": {},
   "outputs": [
    {
     "data": {
      "text/plain": [
       "2394"
      ]
     },
     "execution_count": 2,
     "metadata": {},
     "output_type": "execute_result"
    }
   ],
   "source": [
    "7**4-7"
   ]
  },
  {
   "cell_type": "code",
   "execution_count": 9,
   "id": "24cc33ce",
   "metadata": {},
   "outputs": [
    {
     "data": {
      "text/plain": [
       "0.3676470588235294"
      ]
     },
     "execution_count": 9,
     "metadata": {},
     "output_type": "execute_result"
    }
   ],
   "source": [
    "1/2.72\n",
    "\n"
   ]
  }
 ],
 "metadata": {
  "kernelspec": {
   "display_name": "Python 3 (ipykernel)",
   "language": "python",
   "name": "python3"
  },
  "language_info": {
   "codemirror_mode": {
    "name": "ipython",
    "version": 3
   },
   "file_extension": ".py",
   "mimetype": "text/x-python",
   "name": "python",
   "nbconvert_exporter": "python",
   "pygments_lexer": "ipython3",
   "version": "3.9.7"
  }
 },
 "nbformat": 4,
 "nbformat_minor": 5
}
