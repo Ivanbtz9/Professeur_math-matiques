{
 "cells": [
  {
   "cell_type": "code",
   "execution_count": null,
   "id": "96bf5562",
   "metadata": {},
   "outputs": [],
   "source": []
  },
  {
   "cell_type": "code",
   "execution_count": 2,
   "id": "5ef75556",
   "metadata": {},
   "outputs": [
    {
     "name": "stdout",
     "output_type": "stream",
     "text": [
      "541\n"
     ]
    }
   ],
   "source": [
    "count = 0\n",
    "\n",
    "for i in range(200):\n",
    "    for j in range(500):\n",
    "        if 50*i +j*20 <=1000:\n",
    "            count+=1\n",
    "\n",
    "print(count)\n",
    "        "
   ]
  },
  {
   "cell_type": "code",
   "execution_count": null,
   "id": "976c1975",
   "metadata": {},
   "outputs": [],
   "source": [
    "count = 0\n",
    "\n",
    "for i in range(200):\n",
    "    for j in range(500):\n",
    "        for k in range(1000)\n",
    "            if 5*i +j*2+k ==1000:\n",
    "                count+=1\n",
    "\n",
    "print(count)\n",
    "        "
   ]
  }
 ],
 "metadata": {
  "kernelspec": {
   "display_name": "Python 3 (ipykernel)",
   "language": "python",
   "name": "python3"
  },
  "language_info": {
   "codemirror_mode": {
    "name": "ipython",
    "version": 3
   },
   "file_extension": ".py",
   "mimetype": "text/x-python",
   "name": "python",
   "nbconvert_exporter": "python",
   "pygments_lexer": "ipython3",
   "version": "3.9.7"
  }
 },
 "nbformat": 4,
 "nbformat_minor": 5
}
